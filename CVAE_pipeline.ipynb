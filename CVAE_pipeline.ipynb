{
 "cells": [
  {
   "cell_type": "code",
   "execution_count": 16,
   "metadata": {},
   "outputs": [],
   "source": [
    "from torch.utils.data import DataLoader\n",
    "from dataset.data_loader import FontTransferDataset\n",
    "from torch.utils.data import default_collate\n",
    "# Define label space (62 characters)\n",
    "label_space = [chr(i) for i in range(ord('0'), ord('9') + 1)] + \\\n",
    "              [chr(i) for i in range(ord('A'), ord('Z') + 1)] + \\\n",
    "              [chr(i) for i in range(ord('a'), ord('z') + 1)]\n",
    "\n",
    "train_dataset = FontTransferDataset(\"./data/train_font_data.pkl\", label_space)\n",
    "valid_dataset = FontTransferDataset(\"./data/valid_font_data.pkl\", label_space)\n",
    "\n",
    "train_loader = DataLoader(train_dataset, batch_size=64, shuffle=True, collate_fn=default_collate)\n",
    "valid_loader = DataLoader(valid_dataset, batch_size=64, collate_fn=default_collate)"
   ]
  },
  {
   "cell_type": "code",
   "execution_count": 17,
   "metadata": {},
   "outputs": [],
   "source": [
    "import torch\n",
    "import torch.nn as nn\n",
    "import torch.optim as optim\n",
    "\n",
    "class FontTransferCVAE(nn.Module):\n",
    "    def __init__(self, label_dim=62, latent_dim=64):\n",
    "        super().__init__()\n",
    "        self.latent_dim = latent_dim\n",
    "\n",
    "        # Style Encoder\n",
    "        self.encoder = nn.Sequential(\n",
    "            nn.Conv2d(1, 32, 3, stride=2, padding=1),  # -> 14x14\n",
    "            nn.ReLU(),\n",
    "            nn.Conv2d(32, 64, 3, stride=2, padding=1), # -> 7x7\n",
    "            nn.ReLU(),\n",
    "            nn.Flatten(),\n",
    "            nn.Linear(64 * 7 * 7, 256),\n",
    "            nn.ReLU()\n",
    "        )\n",
    "        self.fc_mu = nn.Linear(256, latent_dim)\n",
    "        self.fc_logvar = nn.Linear(256, latent_dim)\n",
    "\n",
    "        # Decoder\n",
    "        self.decoder_input = nn.Linear(latent_dim + label_dim, 256)\n",
    "        self.decoder = nn.Sequential(\n",
    "            nn.ReLU(),\n",
    "            nn.Linear(256, 64 * 7 * 7),\n",
    "            nn.ReLU(),\n",
    "            nn.Unflatten(1, (64, 7, 7)),\n",
    "            nn.ConvTranspose2d(64, 32, 4, stride=2, padding=1),  # -> 14x14\n",
    "            nn.ReLU(),\n",
    "            nn.ConvTranspose2d(32, 1, 4, stride=2, padding=1),   # -> 28x28\n",
    "            nn.Sigmoid()\n",
    "        )\n",
    "\n",
    "    def encode(self, x):\n",
    "        h = self.encoder(x)\n",
    "        mu = self.fc_mu(h)\n",
    "        logvar = self.fc_logvar(h)\n",
    "        return mu, logvar\n",
    "\n",
    "    def reparameterize(self, mu, logvar):\n",
    "        std = torch.exp(0.5 * logvar)\n",
    "        eps = torch.randn_like(std)\n",
    "        return mu + eps * std\n",
    "\n",
    "    def decode(self, z, label_onehot):\n",
    "        z_cat = torch.cat([z, label_onehot], dim=1)\n",
    "        return self.decoder(self.decoder_input(z_cat))\n",
    "\n",
    "    def forward(self, style_img, label_onehot):\n",
    "        mu, logvar = self.encode(style_img)\n",
    "        z = self.reparameterize(mu, logvar)\n",
    "        recon_img = self.decode(z, label_onehot)\n",
    "        return recon_img, mu, logvar\n",
    "\n",
    "def vae_loss(recon_x, x, mu, logvar):\n",
    "    recon_loss = nn.functional.mse_loss(recon_x, x, reduction='mean')\n",
    "    kl_loss = -0.5 * torch.sum(1 + logvar - mu.pow(2) - logvar.exp()) / x.size(0)\n",
    "    return recon_loss + kl_loss, recon_loss.item(), kl_loss.item()\n",
    "\n"
   ]
  },
  {
   "cell_type": "code",
   "execution_count": 18,
   "metadata": {},
   "outputs": [
    {
     "data": {
      "text/plain": [
       "True"
      ]
     },
     "execution_count": 18,
     "metadata": {},
     "output_type": "execute_result"
    }
   ],
   "source": [
    "torch.mps.is_available()"
   ]
  },
  {
   "cell_type": "code",
   "execution_count": 19,
   "metadata": {},
   "outputs": [
    {
     "name": "stdout",
     "output_type": "stream",
     "text": [
      "Epoch 1, Loss: 0.1774\n",
      "Epoch 2, Loss: 0.0791\n",
      "Epoch 3, Loss: 0.0698\n",
      "Epoch 4, Loss: 0.0674\n",
      "Epoch 5, Loss: 0.0668\n",
      "Epoch 6, Loss: 0.0666\n",
      "Epoch 7, Loss: 0.0662\n",
      "Epoch 8, Loss: 0.0660\n",
      "Epoch 9, Loss: 0.0656\n",
      "Epoch 10, Loss: 0.0653\n",
      "Epoch 11, Loss: 0.0648\n",
      "Epoch 12, Loss: 0.0640\n",
      "Epoch 13, Loss: 0.0628\n",
      "Epoch 14, Loss: 0.0611\n",
      "Epoch 15, Loss: 0.0590\n",
      "Epoch 16, Loss: 0.0574\n",
      "Epoch 17, Loss: 0.0556\n",
      "Epoch 18, Loss: 0.0540\n",
      "Epoch 19, Loss: 0.0521\n",
      "Epoch 20, Loss: 0.0502\n"
     ]
    }
   ],
   "source": [
    "\n",
    "device = torch.device(\"mps\" if torch.mps.is_available() else \"cpu\")\n",
    "model = FontTransferCVAE().to(device)\n",
    "optimizer = optim.Adam(model.parameters(), lr=1e-3)\n",
    "\n",
    "for epoch in range(20):\n",
    "    model.train()\n",
    "    total_loss = 0\n",
    "    for style_img, label_onehot, target_img in train_loader:\n",
    "        style_img, label_onehot, target_img = style_img.to(device), label_onehot.to(device), target_img.to(device)\n",
    "        optimizer.zero_grad()\n",
    "        recon, mu, logvar = model(style_img, label_onehot)\n",
    "        loss, r_loss, kl = vae_loss(recon, target_img, mu, logvar)\n",
    "        loss.backward()\n",
    "        optimizer.step()\n",
    "        total_loss += loss.item()\n",
    "\n",
    "    print(f\"Epoch {epoch+1}, Loss: {total_loss / len(train_loader):.4f}\")"
   ]
  },
  {
   "cell_type": "code",
   "execution_count": 5,
   "metadata": {},
   "outputs": [],
   "source": [
    "torch.save(model.state_dict(), \"./data/cvae_font_transfer.pth\")"
   ]
  },
  {
   "cell_type": "code",
   "execution_count": 20,
   "metadata": {},
   "outputs": [
    {
     "data": {
      "text/plain": [
       "FontTransferCVAE(\n",
       "  (encoder): Sequential(\n",
       "    (0): Conv2d(1, 32, kernel_size=(3, 3), stride=(2, 2), padding=(1, 1))\n",
       "    (1): ReLU()\n",
       "    (2): Conv2d(32, 64, kernel_size=(3, 3), stride=(2, 2), padding=(1, 1))\n",
       "    (3): ReLU()\n",
       "    (4): Flatten(start_dim=1, end_dim=-1)\n",
       "    (5): Linear(in_features=3136, out_features=256, bias=True)\n",
       "    (6): ReLU()\n",
       "  )\n",
       "  (fc_mu): Linear(in_features=256, out_features=64, bias=True)\n",
       "  (fc_logvar): Linear(in_features=256, out_features=64, bias=True)\n",
       "  (decoder_input): Linear(in_features=126, out_features=256, bias=True)\n",
       "  (decoder): Sequential(\n",
       "    (0): ReLU()\n",
       "    (1): Linear(in_features=256, out_features=3136, bias=True)\n",
       "    (2): ReLU()\n",
       "    (3): Unflatten(dim=1, unflattened_size=(64, 7, 7))\n",
       "    (4): ConvTranspose2d(64, 32, kernel_size=(4, 4), stride=(2, 2), padding=(1, 1))\n",
       "    (5): ReLU()\n",
       "    (6): ConvTranspose2d(32, 1, kernel_size=(4, 4), stride=(2, 2), padding=(1, 1))\n",
       "    (7): Sigmoid()\n",
       "  )\n",
       ")"
      ]
     },
     "execution_count": 20,
     "metadata": {},
     "output_type": "execute_result"
    }
   ],
   "source": [
    "# model = FontTransferCVAE(label_dim=62)\n",
    "# model.load_state_dict(torch.load(\"./data/cvae_font_transfer.pth\"))\n",
    "model.to(device)\n",
    "model.eval()"
   ]
  },
  {
   "cell_type": "code",
   "execution_count": 21,
   "metadata": {},
   "outputs": [
    {
     "data": {
      "text/plain": [
       "64"
      ]
     },
     "execution_count": 21,
     "metadata": {},
     "output_type": "execute_result"
    }
   ],
   "source": [
    "from eval import *\n",
    "test_dataset = FontTransferDataset(\"./data/test_font_data.pkl\", label_space)\n",
    "test_loader = DataLoader(test_dataset, batch_size=64)\n"
   ]
  },
  {
   "cell_type": "code",
   "execution_count": null,
   "metadata": {},
   "outputs": [],
   "source": []
  },
  {
   "cell_type": "code",
   "execution_count": 36,
   "metadata": {},
   "outputs": [
    {
     "name": "stdout",
     "output_type": "stream",
     "text": [
      "torch.Size([64, 1, 28, 28])\n",
      "torch.Size([64, 62])\n",
      "torch.Size([64, 1, 28, 28])\n"
     ]
    }
   ],
   "source": [
    "for batch in test_loader:\n",
    "    # print(type(batch))\n",
    "    # print(batch))\n",
    "    for i in batch:\n",
    "        print(i.shape)\n",
    "    break"
   ]
  },
  {
   "cell_type": "code",
   "execution_count": 23,
   "metadata": {},
   "outputs": [
    {
     "ename": "TypeError",
     "evalue": "list indices must be integers or slices, not str",
     "output_type": "error",
     "traceback": [
      "\u001b[0;31m---------------------------------------------------------------------------\u001b[0m",
      "\u001b[0;31mTypeError\u001b[0m                                 Traceback (most recent call last)",
      "Cell \u001b[0;32mIn[23], line 8\u001b[0m\n\u001b[1;32m      6\u001b[0m \u001b[38;5;28;01mwith\u001b[39;00m torch\u001b[38;5;241m.\u001b[39mno_grad():\n\u001b[1;32m      7\u001b[0m     \u001b[38;5;28;01mfor\u001b[39;00m batch \u001b[38;5;129;01min\u001b[39;00m test_loader:\n\u001b[0;32m----> 8\u001b[0m         style_img \u001b[38;5;241m=\u001b[39m \u001b[43mbatch\u001b[49m\u001b[43m[\u001b[49m\u001b[38;5;124;43m\"\u001b[39;49m\u001b[38;5;124;43mstyle_image\u001b[39;49m\u001b[38;5;124;43m\"\u001b[39;49m\u001b[43m]\u001b[49m\u001b[38;5;241m.\u001b[39mto(device)           \u001b[38;5;66;03m# [1, 1, 28, 28]\u001b[39;00m\n\u001b[1;32m      9\u001b[0m         target_img \u001b[38;5;241m=\u001b[39m batch[\u001b[38;5;124m\"\u001b[39m\u001b[38;5;124mtarget_image\u001b[39m\u001b[38;5;124m\"\u001b[39m]\u001b[38;5;241m.\u001b[39mto(device)\n\u001b[1;32m     10\u001b[0m         label \u001b[38;5;241m=\u001b[39m batch[\u001b[38;5;124m\"\u001b[39m\u001b[38;5;124mtarget_label\u001b[39m\u001b[38;5;124m\"\u001b[39m][\u001b[38;5;241m0\u001b[39m]\n",
      "\u001b[0;31mTypeError\u001b[0m: list indices must be integers or slices, not str"
     ]
    },
    {
     "data": {
      "image/png": "[encoded data removed]",
      "text/plain": [
       "<Figure size 600x1500 with 18 Axes>"
      ]
     },
     "metadata": {},
     "output_type": "display_data"
    }
   ],
   "source": [
    "\n",
    "# Visualize inference on first 6 test samples\n",
    "samples_to_show = 6\n",
    "count = 0\n",
    "fig, axes = plt.subplots(samples_to_show, 3, figsize=(6, 2.5 * samples_to_show))\n",
    "\n",
    "with torch.no_grad():\n",
    "    for batch in test_loader:\n",
    "        style_img = batch[\"style_image\"].to(device)           # [1, 1, 28, 28]\n",
    "        target_img = batch[\"target_image\"].to(device)\n",
    "        label = batch[\"target_label\"][0]\n",
    "        onehot = label_to_onehot(label).unsqueeze(0).to(device)\n",
    "\n",
    "        recon_img, _, _ = model(style_img, onehot)\n",
    "\n",
    "        # Visualization\n",
    "        axes[count, 0].imshow(style_img[0].cpu().squeeze(), cmap='gray')\n",
    "        axes[count, 0].set_title(\"Style Input\")\n",
    "        axes[count, 1].imshow(target_img[0].cpu().squeeze(), cmap='gray')\n",
    "        axes[count, 1].set_title(f\"Target '{label}'\")\n",
    "        axes[count, 2].imshow(recon_img[0].cpu().squeeze(), cmap='gray')\n",
    "        axes[count, 2].set_title(\"Reconstruction\")\n",
    "\n",
    "        for ax in axes[count]:\n",
    "            ax.axis('off')\n",
    "\n",
    "        count += 1\n",
    "        if count == samples_to_show:\n",
    "            break\n",
    "\n",
    "plt.tight_layout()\n",
    "plt.show()\n"
   ]
  },
  {
   "cell_type": "code",
   "execution_count": null,
   "metadata": {},
   "outputs": [],
   "source": []
  }
 ],
 "metadata": {
  "kernelspec": {
   "display_name": "hw2-vae-ECE285-GEN",
   "language": "python",
   "name": "python3"
  },
  "language_info": {
   "codemirror_mode": {
    "name": "ipython",
    "version": 3
   },
   "file_extension": ".py",
   "mimetype": "text/x-python",
   "name": "python",
   "nbconvert_exporter": "python",
   "pygments_lexer": "ipython3",
   "version": "3.9.21"
  }
 },
 "nbformat": 4,
 "nbformat_minor": 2
}
