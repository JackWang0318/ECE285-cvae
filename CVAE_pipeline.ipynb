{
 "cells": [
  {
   "cell_type": "code",
   "execution_count": 1,
   "metadata": {},
   "outputs": [],
   "source": [
    "from torch.utils.data import DataLoader\n",
    "from dataset.data_loader import FontTransferDataset\n",
    "from torch.utils.data import default_collate\n",
    "# Define label space (62 characters)\n",
    "label_space = [chr(i) for i in range(ord('0'), ord('9') + 1)] + \\\n",
    "              [chr(i) for i in range(ord('A'), ord('Z') + 1)] + \\\n",
    "              [chr(i) for i in range(ord('a'), ord('z') + 1)]\n",
    "\n",
    "train_dataset = FontTransferDataset(\"./data/train_font_data.pkl\", label_space)\n",
    "valid_dataset = FontTransferDataset(\"./data/valid_font_data.pkl\", label_space)\n",
    "\n",
    "train_loader = DataLoader(train_dataset, batch_size=64, shuffle=True, collate_fn=default_collate)\n",
    "valid_loader = DataLoader(valid_dataset, batch_size=64, collate_fn=default_collate)"
   ]
  },
  {
   "cell_type": "code",
   "execution_count": 2,
   "metadata": {},
   "outputs": [
    {
     "data": {
      "text/plain": [
       "(1400, 400)"
      ]
     },
     "execution_count": 2,
     "metadata": {},
     "output_type": "execute_result"
    }
   ],
   "source": [
    "len(train_dataset),len(valid_dataset)"
   ]
  },
  {
   "cell_type": "code",
   "execution_count": 3,
   "metadata": {},
   "outputs": [
    {
     "data": {
      "text/plain": [
       "(torch.Size([1, 28, 28]), torch.Size([62]), torch.Size([1, 28, 28]))"
      ]
     },
     "execution_count": 3,
     "metadata": {},
     "output_type": "execute_result"
    }
   ],
   "source": [
    "train_dataset[0][0].shape, train_dataset[0][1].shape, train_dataset[0][2].shape\n",
    "# style_img, label_onehot, target_img\n",
    "# style_img: [1, 28, 28]\n",
    "# label_onehot: [1, 62]\n",
    "# target_img: [1, 28, 28]\n"
   ]
  },
  {
   "cell_type": "code",
   "execution_count": 4,
   "metadata": {},
   "outputs": [],
   "source": [
    "import torch\n",
    "import torch.nn as nn\n",
    "import torch.optim as optim\n",
    "\n",
    "class FontTransferCVAE(nn.Module):\n",
    "    def __init__(self, label_dim=62, latent_dim=64):\n",
    "        super().__init__()\n",
    "        self.latent_dim = latent_dim\n",
    "\n",
    "        # Style Encoder\n",
    "        self.encoder = nn.Sequential(\n",
    "            nn.Conv2d(1, 32, 3, stride=2, padding=1),  # -> 14x14\n",
    "            nn.ReLU(),\n",
    "            nn.Conv2d(32, 64, 3, stride=2, padding=1), # -> 7x7\n",
    "            nn.ReLU(),\n",
    "            nn.Flatten(),\n",
    "            nn.Linear(64 * 7 * 7, 256),\n",
    "            nn.ReLU()\n",
    "        )\n",
    "        self.fc_mu = nn.Linear(256, latent_dim)\n",
    "        self.fc_logvar = nn.Linear(256, latent_dim)\n",
    "\n",
    "        # Decoder\n",
    "        self.decoder_input = nn.Linear(latent_dim + label_dim, 256)\n",
    "        self.decoder = nn.Sequential(\n",
    "            nn.ReLU(),\n",
    "            nn.Linear(256, 64 * 7 * 7),\n",
    "            nn.ReLU(),\n",
    "            nn.Unflatten(1, (64, 7, 7)),\n",
    "            nn.ConvTranspose2d(64, 32, 4, stride=2, padding=1),  # -> 14x14\n",
    "            nn.ReLU(),\n",
    "            nn.ConvTranspose2d(32, 1, 4, stride=2, padding=1),   # -> 28x28\n",
    "            nn.Sigmoid()\n",
    "        )\n",
    "\n",
    "    def encode(self, x):\n",
    "        h = self.encoder(x)\n",
    "        mu = self.fc_mu(h)\n",
    "        logvar = self.fc_logvar(h)\n",
    "        return mu, logvar\n",
    "\n",
    "    def reparameterize(self, mu, logvar):\n",
    "        std = torch.exp(0.5 * logvar)\n",
    "        eps = torch.randn_like(std)\n",
    "        return mu + eps * std\n",
    "\n",
    "    def decode(self, z, label_onehot):\n",
    "        z_cat = torch.cat([z, label_onehot], dim=1)\n",
    "        return self.decoder(self.decoder_input(z_cat))\n",
    "\n",
    "    def forward(self, style_img, label_onehot):\n",
    "        mu, logvar = self.encode(style_img)\n",
    "        z = self.reparameterize(mu, logvar)\n",
    "        recon_img = self.decode(z, label_onehot)\n",
    "        return recon_img, mu, logvar\n",
    "\n",
    "def vae_loss(recon_x, x, mu, logvar):\n",
    "    recon_loss = nn.functional.mse_loss(recon_x, x, reduction='mean')\n",
    "    kl_loss = -0.5 * torch.sum(1 + logvar - mu.pow(2) - logvar.exp()) / x.size(0)\n",
    "    return recon_loss + kl_loss, recon_loss.item(), kl_loss.item()\n",
    "\n"
   ]
  },
  {
   "cell_type": "code",
   "execution_count": 5,
   "metadata": {},
   "outputs": [
    {
     "data": {
      "text/plain": [
       "True"
      ]
     },
     "execution_count": 5,
     "metadata": {},
     "output_type": "execute_result"
    }
   ],
   "source": [
    "torch.mps.is_available()"
   ]
  },
  {
   "cell_type": "code",
   "execution_count": 6,
   "metadata": {},
   "outputs": [
    {
     "name": "stdout",
     "output_type": "stream",
     "text": [
      "Epoch 1, Loss: 0.1539\n",
      "Epoch 2, Loss: 0.0772\n",
      "Epoch 3, Loss: 0.0692\n",
      "Epoch 4, Loss: 0.0673\n",
      "Epoch 5, Loss: 0.0669\n",
      "Epoch 6, Loss: 0.0665\n",
      "Epoch 7, Loss: 0.0663\n",
      "Epoch 8, Loss: 0.0660\n",
      "Epoch 9, Loss: 0.0657\n",
      "Epoch 10, Loss: 0.0651\n",
      "Epoch 11, Loss: 0.0643\n",
      "Epoch 12, Loss: 0.0629\n",
      "Epoch 13, Loss: 0.0614\n",
      "Epoch 14, Loss: 0.0594\n",
      "Epoch 15, Loss: 0.0578\n",
      "Epoch 16, Loss: 0.0561\n",
      "Epoch 17, Loss: 0.0543\n",
      "Epoch 18, Loss: 0.0522\n",
      "Epoch 19, Loss: 0.0503\n",
      "Epoch 20, Loss: 0.0484\n",
      "Epoch 21, Loss: 0.0471\n",
      "Epoch 22, Loss: 0.0458\n",
      "Epoch 23, Loss: 0.0447\n",
      "Epoch 24, Loss: 0.0440\n",
      "Epoch 25, Loss: 0.0435\n",
      "Epoch 26, Loss: 0.0428\n",
      "Epoch 27, Loss: 0.0423\n",
      "Epoch 28, Loss: 0.0420\n",
      "Epoch 29, Loss: 0.0417\n",
      "Epoch 30, Loss: 0.0412\n",
      "Epoch 31, Loss: 0.0408\n",
      "Epoch 32, Loss: 0.0404\n",
      "Epoch 33, Loss: 0.0404\n",
      "Epoch 34, Loss: 0.0401\n",
      "Epoch 35, Loss: 0.0399\n",
      "Epoch 36, Loss: 0.0396\n",
      "Epoch 37, Loss: 0.0395\n",
      "Epoch 38, Loss: 0.0397\n",
      "Epoch 39, Loss: 0.0393\n",
      "Epoch 40, Loss: 0.0390\n",
      "Epoch 41, Loss: 0.0391\n",
      "Epoch 42, Loss: 0.0390\n",
      "Epoch 43, Loss: 0.0389\n",
      "Epoch 44, Loss: 0.0388\n",
      "Epoch 45, Loss: 0.0389\n",
      "Epoch 46, Loss: 0.0387\n",
      "Epoch 47, Loss: 0.0387\n",
      "Epoch 48, Loss: 0.0387\n",
      "Epoch 49, Loss: 0.0386\n",
      "Epoch 50, Loss: 0.0385\n",
      "Epoch 51, Loss: 0.0383\n",
      "Epoch 52, Loss: 0.0383\n",
      "Epoch 53, Loss: 0.0383\n",
      "Epoch 54, Loss: 0.0382\n",
      "Epoch 55, Loss: 0.0382\n",
      "Epoch 56, Loss: 0.0382\n",
      "Epoch 57, Loss: 0.0380\n",
      "Epoch 58, Loss: 0.0380\n",
      "Epoch 59, Loss: 0.0380\n",
      "Epoch 60, Loss: 0.0381\n",
      "Epoch 61, Loss: 0.0380\n",
      "Epoch 62, Loss: 0.0379\n",
      "Epoch 63, Loss: 0.0379\n",
      "Epoch 64, Loss: 0.0379\n",
      "Epoch 65, Loss: 0.0378\n",
      "Epoch 66, Loss: 0.0377\n",
      "Epoch 67, Loss: 0.0377\n",
      "Epoch 68, Loss: 0.0377\n",
      "Epoch 69, Loss: 0.0377\n",
      "Epoch 70, Loss: 0.0376\n",
      "Epoch 71, Loss: 0.0378\n",
      "Epoch 72, Loss: 0.0378\n",
      "Epoch 73, Loss: 0.0376\n",
      "Epoch 74, Loss: 0.0376\n",
      "Epoch 75, Loss: 0.0376\n",
      "Epoch 76, Loss: 0.0376\n",
      "Epoch 77, Loss: 0.0376\n",
      "Epoch 78, Loss: 0.0375\n",
      "Epoch 79, Loss: 0.0376\n",
      "Epoch 80, Loss: 0.0376\n",
      "Epoch 81, Loss: 0.0376\n",
      "Epoch 82, Loss: 0.0374\n",
      "Epoch 83, Loss: 0.0376\n",
      "Epoch 84, Loss: 0.0374\n",
      "Epoch 85, Loss: 0.0375\n",
      "Epoch 86, Loss: 0.0374\n",
      "Epoch 87, Loss: 0.0374\n",
      "Epoch 88, Loss: 0.0373\n",
      "Epoch 89, Loss: 0.0375\n",
      "Epoch 90, Loss: 0.0374\n",
      "Epoch 91, Loss: 0.0373\n",
      "Epoch 92, Loss: 0.0374\n",
      "Epoch 93, Loss: 0.0374\n",
      "Epoch 94, Loss: 0.0373\n",
      "Epoch 95, Loss: 0.0373\n",
      "Epoch 96, Loss: 0.0373\n",
      "Epoch 97, Loss: 0.0373\n",
      "Epoch 98, Loss: 0.0373\n",
      "Epoch 99, Loss: 0.0374\n",
      "Epoch 100, Loss: 0.0373\n",
      "Epoch 101, Loss: 0.0373\n",
      "Epoch 102, Loss: 0.0373\n",
      "Epoch 103, Loss: 0.0374\n",
      "Epoch 104, Loss: 0.0372\n",
      "Epoch 105, Loss: 0.0372\n",
      "Epoch 106, Loss: 0.0372\n",
      "Epoch 107, Loss: 0.0371\n",
      "Epoch 108, Loss: 0.0372\n",
      "Epoch 109, Loss: 0.0372\n",
      "Epoch 110, Loss: 0.0371\n",
      "Epoch 111, Loss: 0.0372\n",
      "Epoch 112, Loss: 0.0373\n",
      "Epoch 113, Loss: 0.0372\n",
      "Epoch 114, Loss: 0.0372\n",
      "Epoch 115, Loss: 0.0371\n",
      "Epoch 116, Loss: 0.0372\n",
      "Epoch 117, Loss: 0.0372\n",
      "Epoch 118, Loss: 0.0372\n",
      "Epoch 119, Loss: 0.0371\n",
      "Epoch 120, Loss: 0.0371\n",
      "Epoch 121, Loss: 0.0371\n",
      "Epoch 122, Loss: 0.0371\n",
      "Epoch 123, Loss: 0.0372\n",
      "Epoch 124, Loss: 0.0372\n",
      "Epoch 125, Loss: 0.0371\n",
      "Epoch 126, Loss: 0.0370\n",
      "Epoch 127, Loss: 0.0372\n",
      "Epoch 128, Loss: 0.0371\n",
      "Epoch 129, Loss: 0.0370\n",
      "Epoch 130, Loss: 0.0371\n",
      "Epoch 131, Loss: 0.0372\n",
      "Epoch 132, Loss: 0.0371\n",
      "Epoch 133, Loss: 0.0371\n",
      "Epoch 134, Loss: 0.0370\n",
      "Epoch 135, Loss: 0.0371\n",
      "Epoch 136, Loss: 0.0370\n",
      "Epoch 137, Loss: 0.0370\n",
      "Epoch 138, Loss: 0.0371\n",
      "Epoch 139, Loss: 0.0371\n",
      "Epoch 140, Loss: 0.0370\n",
      "Epoch 141, Loss: 0.0370\n",
      "Epoch 142, Loss: 0.0371\n",
      "Epoch 143, Loss: 0.0371\n",
      "Epoch 144, Loss: 0.0371\n",
      "Epoch 145, Loss: 0.0371\n",
      "Epoch 146, Loss: 0.0371\n",
      "Epoch 147, Loss: 0.0371\n",
      "Epoch 148, Loss: 0.0370\n",
      "Epoch 149, Loss: 0.0370\n",
      "Epoch 150, Loss: 0.0371\n",
      "Epoch 151, Loss: 0.0371\n",
      "Epoch 152, Loss: 0.0371\n",
      "Epoch 153, Loss: 0.0370\n",
      "Epoch 154, Loss: 0.0369\n",
      "Epoch 155, Loss: 0.0369\n",
      "Epoch 156, Loss: 0.0370\n",
      "Epoch 157, Loss: 0.0370\n",
      "Epoch 158, Loss: 0.0369\n",
      "Epoch 159, Loss: 0.0370\n",
      "Epoch 160, Loss: 0.0370\n",
      "Epoch 161, Loss: 0.0371\n",
      "Epoch 162, Loss: 0.0370\n",
      "Epoch 163, Loss: 0.0370\n",
      "Epoch 164, Loss: 0.0370\n",
      "Epoch 165, Loss: 0.0370\n",
      "Epoch 166, Loss: 0.0370\n",
      "Epoch 167, Loss: 0.0369\n",
      "Epoch 168, Loss: 0.0370\n",
      "Epoch 169, Loss: 0.0369\n",
      "Epoch 170, Loss: 0.0370\n",
      "Epoch 171, Loss: 0.0370\n",
      "Epoch 172, Loss: 0.0369\n",
      "Epoch 173, Loss: 0.0369\n",
      "Epoch 174, Loss: 0.0370\n",
      "Epoch 175, Loss: 0.0369\n",
      "Epoch 176, Loss: 0.0370\n",
      "Epoch 177, Loss: 0.0370\n",
      "Epoch 178, Loss: 0.0371\n",
      "Epoch 179, Loss: 0.0370\n",
      "Epoch 180, Loss: 0.0370\n",
      "Epoch 181, Loss: 0.0369\n",
      "Epoch 182, Loss: 0.0369\n",
      "Epoch 183, Loss: 0.0370\n",
      "Epoch 184, Loss: 0.0370\n",
      "Epoch 185, Loss: 0.0369\n",
      "Epoch 186, Loss: 0.0369\n",
      "Epoch 187, Loss: 0.0369\n",
      "Epoch 188, Loss: 0.0369\n",
      "Epoch 189, Loss: 0.0370\n",
      "Epoch 190, Loss: 0.0369\n",
      "Epoch 191, Loss: 0.0369\n",
      "Epoch 192, Loss: 0.0370\n",
      "Epoch 193, Loss: 0.0369\n",
      "Epoch 194, Loss: 0.0369\n",
      "Epoch 195, Loss: 0.0369\n",
      "Epoch 196, Loss: 0.0370\n",
      "Epoch 197, Loss: 0.0369\n",
      "Epoch 198, Loss: 0.0369\n",
      "Epoch 199, Loss: 0.0369\n",
      "Epoch 200, Loss: 0.0369\n"
     ]
    }
   ],
   "source": [
    "\n",
    "device = torch.device(\"mps\" if torch.mps.is_available() else \"cpu\")\n",
    "model = FontTransferCVAE().to(device)\n",
    "optimizer = optim.Adam(model.parameters(), lr=1e-3)\n",
    "\n",
    "for epoch in range(200):\n",
    "    model.train()\n",
    "    total_loss = 0\n",
    "    for style_img, label_onehot, target_img in train_loader:\n",
    "        style_img, label_onehot, target_img = style_img.to(device), label_onehot.to(device), target_img.to(device)\n",
    "        optimizer.zero_grad()\n",
    "        recon, mu, logvar = model(style_img, label_onehot)\n",
    "        loss, r_loss, kl = vae_loss(recon, target_img, mu, logvar)\n",
    "        loss.backward()\n",
    "        optimizer.step()\n",
    "        total_loss += loss.item()\n",
    "\n",
    "    print(f\"Epoch {epoch+1}, Loss: {total_loss / len(train_loader):.4f}\")"
   ]
  },
  {
   "cell_type": "code",
   "execution_count": 7,
   "metadata": {},
   "outputs": [],
   "source": [
    "torch.save(model.state_dict(), \"./data/cvae_font_transfer.pth\")"
   ]
  },
  {
   "cell_type": "code",
   "execution_count": 8,
   "metadata": {},
   "outputs": [
    {
     "data": {
      "text/plain": [
       "FontTransferCVAE(\n",
       "  (encoder): Sequential(\n",
       "    (0): Conv2d(1, 32, kernel_size=(3, 3), stride=(2, 2), padding=(1, 1))\n",
       "    (1): ReLU()\n",
       "    (2): Conv2d(32, 64, kernel_size=(3, 3), stride=(2, 2), padding=(1, 1))\n",
       "    (3): ReLU()\n",
       "    (4): Flatten(start_dim=1, end_dim=-1)\n",
       "    (5): Linear(in_features=3136, out_features=256, bias=True)\n",
       "    (6): ReLU()\n",
       "  )\n",
       "  (fc_mu): Linear(in_features=256, out_features=64, bias=True)\n",
       "  (fc_logvar): Linear(in_features=256, out_features=64, bias=True)\n",
       "  (decoder_input): Linear(in_features=126, out_features=256, bias=True)\n",
       "  (decoder): Sequential(\n",
       "    (0): ReLU()\n",
       "    (1): Linear(in_features=256, out_features=3136, bias=True)\n",
       "    (2): ReLU()\n",
       "    (3): Unflatten(dim=1, unflattened_size=(64, 7, 7))\n",
       "    (4): ConvTranspose2d(64, 32, kernel_size=(4, 4), stride=(2, 2), padding=(1, 1))\n",
       "    (5): ReLU()\n",
       "    (6): ConvTranspose2d(32, 1, kernel_size=(4, 4), stride=(2, 2), padding=(1, 1))\n",
       "    (7): Sigmoid()\n",
       "  )\n",
       ")"
      ]
     },
     "execution_count": 8,
     "metadata": {},
     "output_type": "execute_result"
    }
   ],
   "source": [
    "# model = FontTransferCVAE(label_dim=62)\n",
    "# model.load_state_dict(torch.load(\"./data/cvae_font_transfer.pth\"))\n",
    "model.to(device)\n",
    "model.eval()"
   ]
  },
  {
   "cell_type": "code",
   "execution_count": 9,
   "metadata": {},
   "outputs": [],
   "source": [
    "from eval import *\n",
    "test_dataset = FontTransferDataset(\"./data/test_font_data.pkl\", label_space)\n",
    "test_loader = DataLoader(test_dataset, batch_size=64)\n"
   ]
  },
  {
   "cell_type": "code",
   "execution_count": 10,
   "metadata": {},
   "outputs": [
    {
     "name": "stdout",
     "output_type": "stream",
     "text": [
      "torch.Size([64, 1, 28, 28])\n",
      "torch.Size([64, 62])\n",
      "torch.Size([64, 1, 28, 28])\n"
     ]
    }
   ],
   "source": [
    "for style_img, label_tensor, target_img in test_loader:\n",
    "    print(style_img.shape)\n",
    "    print(label_tensor.shape)\n",
    "    print(target_img.shape)\n",
    "    break\n",
    "\n",
    "# torch.Size([64, 1, 28, 28])\n",
    "# torch.Size([64, 62])\n",
    "# torch.Size([64, 1, 28, 28])"
   ]
  },
  {
   "cell_type": "code",
   "execution_count": 11,
   "metadata": {},
   "outputs": [
    {
     "data": {
      "text/plain": [
       "(torch.Size([1, 28, 28]), torch.Size([62]), torch.Size([1, 28, 28]))"
      ]
     },
     "execution_count": 11,
     "metadata": {},
     "output_type": "execute_result"
    }
   ],
   "source": [
    "test_dataset[0][0].shape, test_dataset[0][1].shape, test_dataset[0][2].shape\n",
    "# style_img, label_onehot, target_img\n",
    "# style_img: [1, 28, 28]\n",
    "# label_onehot: [62]\n",
    "# target_img: [1, 28, 28]\n"
   ]
  },
  {
   "cell_type": "code",
   "execution_count": 12,
   "metadata": {},
   "outputs": [],
   "source": [
    "import torch\n",
    "import matplotlib.pyplot as plt\n",
    "\n",
    "def label_to_onehot(label, label_space=label_space):\n",
    "    \"\"\"\n",
    "    Convert a character label into a one-hot encoded tensor.\n",
    "\n",
    "    Args:\n",
    "        label (str): A single character, e.g., 'A'\n",
    "        label_space (list of str): The list of allowed characters, length 62\n",
    "\n",
    "    Returns:\n",
    "        Tensor: One-hot encoded tensor of shape [62]\n",
    "    \"\"\"\n",
    "    index = label_space.index(label)\n",
    "    return torch.nn.functional.one_hot(torch.tensor(index), num_classes=len(label_space)).float()"
   ]
  },
  {
   "cell_type": "code",
   "execution_count": 13,
   "metadata": {},
   "outputs": [
    {
     "data": {
      "image/png": "[encoded data removed]",
      "text/plain": [
       "<Figure size 600x1500 with 18 Axes>"
      ]
     },
     "metadata": {},
     "output_type": "display_data"
    }
   ],
   "source": [
    "import torch\n",
    "import matplotlib.pyplot as plt\n",
    "\n",
    "# 假设已定义:\n",
    "# - model (加载好并 .eval())\n",
    "# - test_loader\n",
    "# - device\n",
    "\n",
    "# 设置展示数量\n",
    "samples_to_show = 6\n",
    "\n",
    "# 创建子图\n",
    "fig, axes = plt.subplots(samples_to_show, 3, figsize=(6, 2.5 * samples_to_show))\n",
    "\n",
    "# 推理 & 可视化\n",
    "model.eval()\n",
    "with torch.no_grad():\n",
    "    for style_img, label_tensor, target_img in test_loader:\n",
    "        # 提取前 N 个样本\n",
    "        style_img = style_img[:samples_to_show].to(device)      # [N, 1, 28, 28]\n",
    "        label_tensor = label_tensor[:samples_to_show].to(device)  # [N, 62]\n",
    "        target_img = target_img[:samples_to_show].to(device)    # [N, 1, 28, 28]\n",
    "\n",
    "        recon_img, _, _ = model(style_img, label_tensor)        # [N, 1, 28, 28]\n",
    "\n",
    "        for i in range(samples_to_show):\n",
    "            axes[i, 0].imshow(style_img[i].cpu().squeeze(), cmap='gray')\n",
    "            axes[i, 0].set_title(\"Style Input\")\n",
    "\n",
    "            axes[i, 1].imshow(target_img[i].cpu().squeeze(), cmap='gray')\n",
    "            axes[i, 1].set_title(\"Target\")\n",
    "\n",
    "            axes[i, 2].imshow(recon_img[i].cpu().squeeze(), cmap='gray')\n",
    "            axes[i, 2].set_title(\"Reconstruction\")\n",
    "\n",
    "            for ax in axes[i]:\n",
    "                ax.axis('off')\n",
    "\n",
    "        break  # 只处理一批\n",
    "\n",
    "plt.tight_layout()\n",
    "plt.show()"
   ]
  },
  {
   "cell_type": "code",
   "execution_count": null,
   "metadata": {},
   "outputs": [],
   "source": []
  }
 ],
 "metadata": {
  "kernelspec": {
   "display_name": "hw2-vae-ECE285-GEN",
   "language": "python",
   "name": "python3"
  },
  "language_info": {
   "codemirror_mode": {
    "name": "ipython",
    "version": 3
   },
   "file_extension": ".py",
   "mimetype": "text/x-python",
   "name": "python",
   "nbconvert_exporter": "python",
   "pygments_lexer": "ipython3",
   "version": "3.9.21"
  }
 },
 "nbformat": 4,
 "nbformat_minor": 2
}
